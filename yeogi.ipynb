{
 "cells": [
  {
   "cell_type": "markdown",
   "metadata": {},
   "source": [
    "## 여기어때 숙소 정보 크롤러\n",
    "--- \n",
    "**기능**\n",
    "1. 사용자가 지정한 여행지, 날짜, 인원으로 숙소를 검색합니다.\n",
    "2. 검색 결과 페이지에 나타난 숙소 목록의 이름, 가격, 평점 등을 수집합니다.\n",
    "3. 결과를 `(위치)_yeogi.csv` csv 파일과 `yeogi.ipynb` 파일로 저장합니다.\n",
    "\n",
    "**필요 라이브러리 설치**\n",
    "```bash\n",
    "pip install selenium webdriver-manager beautifulsoup4 pandas 등\n",
    "```"
   ]
  },
  {
   "cell_type": "code",
   "execution_count": null,
   "metadata": {},
   "outputs": [],
   "source": [
    "import time\n",
    "import csv\n",
    "from selenium import webdriver\n",
    "from selenium.webdriver.chrome.service import Service\n",
    "from selenium.webdriver.chrome.options import Options\n",
    "from bs4 import BeautifulSoup\n",
    "from webdriver_manager.chrome import ChromeDriverManager"
   ]
  },
  {
   "cell_type": "markdown",
   "metadata": {},
   "source": [
    "#### 검색 결과창에서 크롤링\n",
    "- 숙소명, 숙소유형, 위치, 평점, 가격 뽑아서\n",
    "- csv 형식으로 저장"
   ]
  },
  {
   "cell_type": "code",
   "execution_count": null,
   "metadata": {},
   "outputs": [
    {
     "name": "stdout",
     "output_type": "stream",
     "text": [
      "[INFO] Page 1: 숙소 7개 크롤링 중...\n",
      "[INFO] Page 2: 숙소 없음, 종료.\n",
      "[완료] CSV 파일로 숙소 정보 저장 완료.\n"
     ]
    }
   ],
   "source": [
    "# 검색 조건 설정\n",
    "keyword = \"서울+홍대\"\n",
    "checkin = \"2025-09-06\"\n",
    "checkout = \"2025-09-15\"\n",
    "adult = 4  \n",
    "\n",
    "page = 1\n",
    "results = []\n",
    "\n",
    "# 크롬 옵션 설정\n",
    "options = Options()\n",
    "options.add_argument(\"--window-size=1200,800\")  # 창 크기 설정\n",
    "driver = webdriver.Chrome(service=Service(ChromeDriverManager().install()), options=options)\n",
    "\n",
    "# 페이지 반복 크롤링\n",
    "while True:\n",
    "    url = f\"https://www.yeogi.com/domestic-accommodations?keyword={keyword}&checkIn={checkin}&checkOut={checkout}&personal={adult}&freeForm=false&page={page}\"\n",
    "    driver.get(url)\n",
    "    time.sleep(3)  # 페이지 로딩 대기\n",
    "\n",
    "    soup = BeautifulSoup(driver.page_source, 'html.parser')\n",
    "\n",
    "    # 각 요소 선택자\n",
    "    name_tags = soup.select(\"h3.gc-thumbnail-type-seller-card-title\")\n",
    "    type_tags = soup.select(\"ul.css-bl7zf6 li:first-child\")\n",
    "    location_blocks = soup.select(\"div.css-19li9i9\")\n",
    "    rating_tags = soup.select(\"div.css-19f645y span.css-9ml4lz\")\n",
    "    price_tags = soup.select(\"div.css-yeouz0\")\n",
    "\n",
    "    n = min(len(name_tags), len(type_tags), len(location_blocks), len(rating_tags), len(price_tags))\n",
    "\n",
    "    if n == 0:\n",
    "        print(f\"[INFO] Page {page}: 숙소 없음, 종료.\")\n",
    "        break\n",
    "\n",
    "    print(f\"[INFO] Page {page}: 숙소 {n}개 크롤링 중...\")\n",
    "\n",
    "    # 각 숙소 정보 저장\n",
    "    for i in range(n):\n",
    "        name = name_tags[i].text.strip()\n",
    "        acc_type = type_tags[i].text.strip()\n",
    "        location = \" \".join([span.text.strip() for span in location_blocks[i].select(\"span\")])\n",
    "        rating = rating_tags[i].text.strip()\n",
    "        price_tag = price_tags[i]\n",
    "\n",
    "        if price_tag:\n",
    "            price_parts = [span.get_text(strip=True) for span in price_tag.select(\"span\")]\n",
    "            price_text = \" \".join(price_parts).replace(\" 원\", \"원\").replace(\" /\", \"/\")\n",
    "        else:\n",
    "            price_text = \"없음\"\n",
    "\n",
    "        results.append([name, acc_type, location, rating, price_text])\n",
    "\n",
    "    page += 1\n",
    "\n",
    "driver.quit()\n",
    "\n",
    "# CSV 파일로 저장\n",
    "with open(\"hongdae_accommodations.csv\", \"w\", encoding=\"utf-8-sig\", newline=\"\") as f:\n",
    "    writer = csv.writer(f)\n",
    "    writer.writerow([\"이름\", \"유형\", \"위치\", \"평점\", \"가격\"])  # 헤더\n",
    "    writer.writerows(results)\n",
    "\n",
    "print(\"[완료] CSV 파일로 숙소 정보 저장 완료.\")"
   ]
  },
  {
   "cell_type": "markdown",
   "metadata": {},
   "source": [
    "#### 함수로 선언"
   ]
  },
  {
   "cell_type": "code",
   "execution_count": null,
   "metadata": {},
   "outputs": [],
   "source": [
    "def crawl_yeogi_to_csv(destination: str, checkin: str, checkout: str, adults: int) -> str:\n",
    "    keyword = destination.replace(\" \", \"+\")\n",
    "    filename = destination.replace(\" \", \"_\") + \"_yeogi.csv\"\n",
    "\n",
    "    page = 1\n",
    "    results = []\n",
    "\n",
    "    options = Options()\n",
    "    options.add_argument(\"--window-size=1200,800\")\n",
    "    options.add_argument(\"--headless=new\")  # UI 없이 실행 (선택사항)\n",
    "    driver = webdriver.Chrome(service=Service(ChromeDriverManager().install()), options=options)\n",
    "\n",
    "    while True:\n",
    "        url = f\"https://www.yeogi.com/domestic-accommodations?keyword={keyword}&checkIn={checkin}&checkOut={checkout}&personal={adults}&freeForm=false&page={page}\"\n",
    "        driver.get(url)\n",
    "        time.sleep(3)\n",
    "\n",
    "        soup = BeautifulSoup(driver.page_source, 'html.parser')\n",
    "\n",
    "        name_tags = soup.select(\"h3.gc-thumbnail-type-seller-card-title\")\n",
    "        type_tags = soup.select(\"ul.css-bl7zf6 li:first-child\")\n",
    "        location_blocks = soup.select(\"div.css-19li9i9\")\n",
    "        rating_tags = soup.select(\"div.css-19f645y span.css-9ml4lz\")\n",
    "        price_tags = soup.select(\"div.css-yeouz0\")\n",
    "\n",
    "        n = min(len(name_tags), len(type_tags), len(location_blocks), len(rating_tags), len(price_tags))\n",
    "\n",
    "        if n == 0:\n",
    "            print(f\"[INFO] Page {page}: 숙소 없음, 종료.\")\n",
    "            break\n",
    "\n",
    "        print(f\"[INFO] Page {page}: 숙소 {n}개 크롤링 중...\")\n",
    "\n",
    "        for i in range(n):\n",
    "            name = name_tags[i].text.strip()\n",
    "            acc_type = type_tags[i].text.strip()\n",
    "            location = \" \".join([span.text.strip() for span in location_blocks[i].select(\"span\")])\n",
    "            rating = rating_tags[i].text.strip()\n",
    "            price_tag = price_tags[i]\n",
    "\n",
    "            if price_tag:\n",
    "                price_parts = [span.get_text(strip=True) for span in price_tag.select(\"span\")]\n",
    "                price_text = \" \".join(price_parts).replace(\" 원\", \"원\").replace(\" /\", \"/\")\n",
    "            else:\n",
    "                price_text = \"없음\"\n",
    "\n",
    "            results.append([name, acc_type, location, rating, price_text])\n",
    "\n",
    "        page += 1\n",
    "\n",
    "    driver.quit()\n",
    "\n",
    "    with open(filename, \"w\", encoding=\"utf-8-sig\", newline=\"\") as f:\n",
    "        writer = csv.writer(f)\n",
    "        writer.writerow([\"이름\", \"유형\", \"위치\", \"평점\", \"가격\"])\n",
    "        writer.writerows(results)\n",
    "\n",
    "    print(f\"[완료] CSV 저장: {filename}\")\n",
    "    return filename"
   ]
  },
  {
   "cell_type": "code",
   "execution_count": 3,
   "metadata": {},
   "outputs": [
    {
     "name": "stdout",
     "output_type": "stream",
     "text": [
      "[INFO] Page 1: 숙소 20개 크롤링 중...\n",
      "[INFO] Page 2: 숙소 20개 크롤링 중...\n",
      "[INFO] Page 3: 숙소 10개 크롤링 중...\n",
      "[INFO] Page 4: 숙소 없음, 종료.\n",
      "[완료] CSV 저장: 부산_광안리_yeogi.csv\n"
     ]
    }
   ],
   "source": [
    "# 광안리 지역 2025년 9월 6일 ~ 15일, 2인\n",
    "csv_path = crawl_yeogi_to_csv(\"부산 광안리\", \"2025-09-06\", \"2025-09-15\", 2)"
   ]
  }
 ],
 "metadata": {
  "kernelspec": {
   "display_name": "base",
   "language": "python",
   "name": "python3"
  },
  "language_info": {
   "codemirror_mode": {
    "name": "ipython",
    "version": 3
   },
   "file_extension": ".py",
   "mimetype": "text/x-python",
   "name": "python",
   "nbconvert_exporter": "python",
   "pygments_lexer": "ipython3",
   "version": "3.12.7"
  }
 },
 "nbformat": 4,
 "nbformat_minor": 4
}
