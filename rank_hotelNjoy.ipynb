{
 "cells": [
  {
   "cell_type": "code",
   "execution_count": 1,
   "id": "6f8d7d8f",
   "metadata": {},
   "outputs": [],
   "source": [
    "import csv\n",
    "from selenium import webdriver\n",
    "from selenium.webdriver.chrome.service import Service\n",
    "from webdriver_manager.chrome import ChromeDriverManager\n",
    "from selenium.webdriver.common.by import By\n",
    "from selenium.webdriver.chrome.options import Options\n",
    "import time"
   ]
  },
  {
   "cell_type": "code",
   "execution_count": 5,
   "id": "fb0e6746",
   "metadata": {},
   "outputs": [
    {
     "name": "stdout",
     "output_type": "stream",
     "text": [
      "저장 완료\n"
     ]
    }
   ],
   "source": [
    "import time\n",
    "import csv\n",
    "from selenium import webdriver\n",
    "from selenium.webdriver.chrome.service import Service\n",
    "from selenium.webdriver.common.by import By\n",
    "from selenium.webdriver.chrome.options import Options\n",
    "from webdriver_manager.chrome import ChromeDriverManager\n",
    "\n",
    "# 크롬 옵션 설정\n",
    "options = Options()\n",
    "# options.add_argument(\"--headless=new\")\n",
    "options.add_argument(\"--disable-blink-features=AutomationControlled\")\n",
    "options.add_argument(\"--no-sandbox\")\n",
    "options.add_argument(\"--disable-dev-shm-usage\")\n",
    "\n",
    "# 드라이버 실행\n",
    "driver = webdriver.Chrome(service=Service(ChromeDriverManager().install()), options=options)\n",
    "driver.get(\"https://m.hotelnjoy.com/nm/main_may\")\n",
    "time.sleep(3)\n",
    "\n",
    "# 인기 검색 키워드 섹션 범위 지정\n",
    "popular_section = driver.find_element(By.CSS_SELECTOR, 'section.container.mt-4')\n",
    "\n",
    "# 클래스 선택자 수정된 부분\n",
    "keyword_elements = popular_section.find_elements(\n",
    "    By.CSS_SELECTOR,\n",
    "    'li.col-4.px-2.px-md-4.popularArea > a > p'\n",
    ")\n",
    "\n",
    "# 결과 저장 리스트\n",
    "results = []\n",
    "for i, el in enumerate(keyword_elements, 1):\n",
    "    keyword = el.text.strip()\n",
    "    results.append([i, keyword])\n",
    "\n",
    "# CSV 파일로 저장\n",
    "with open(\"rank_hotelNjoy.csv\", mode=\"w\", newline=\"\", encoding=\"utf-8-sig\") as file:\n",
    "    writer = csv.writer(file)\n",
    "    writer.writerow([\"순위\", \"키워드\"])  \n",
    "    writer.writerows(results)\n",
    "    print(\"저장 완료\")\n",
    "\n",
    "driver.quit()"
   ]
  }
 ],
 "metadata": {
  "kernelspec": {
   "display_name": "base",
   "language": "python",
   "name": "python3"
  },
  "language_info": {
   "codemirror_mode": {
    "name": "ipython",
    "version": 3
   },
   "file_extension": ".py",
   "mimetype": "text/x-python",
   "name": "python",
   "nbconvert_exporter": "python",
   "pygments_lexer": "ipython3",
   "version": "3.12.7"
  }
 },
 "nbformat": 4,
 "nbformat_minor": 5
}
